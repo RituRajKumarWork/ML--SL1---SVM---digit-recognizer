{
  "nbformat": 4,
  "nbformat_minor": 0,
  "metadata": {
    "colab": {
      "provenance": []
    },
    "kernelspec": {
      "name": "python3",
      "display_name": "Python 3"
    },
    "language_info": {
      "name": "python"
    }
  },
  "cells": [
    {
      "cell_type": "markdown",
      "source": [
        "# SVM Image Classification Project\n",
        "\n",
        "This notebook demonstrates an end-to-end process for using Support Vector Machines (SVMs) to classify images. We will use a popular dataset for image classification, apply SVM with different kernels, and perform hyperparameter tuning to improve accuracy. Each step includes observations to help you interpret the results.\n",
        "\n",
        "## Dataset\n",
        "For this example, we will use the MNIST or Fashion MNIST dataset.\n"
      ],
      "metadata": {
        "id": "Az8w3jsvYNf4"
      }
    },
    {
      "cell_type": "code",
      "execution_count": 1,
      "metadata": {
        "id": "97lMxFMaYLqn"
      },
      "outputs": [],
      "source": [
        "# Import necessary libraries\n",
        "import pandas as pd\n",
        "import numpy as np\n",
        "import matplotlib.pyplot as plt\n",
        "import seaborn as sns\n",
        "from sklearn.svm import SVC\n",
        "from sklearn.metrics import accuracy_score, classification_report, confusion_matrix\n",
        "from sklearn.decomposition import PCA\n",
        "from sklearn.model_selection import GridSearchCV, train_test_split\n"
      ]
    },
    {
      "cell_type": "markdown",
      "source": [
        "# **1. Load Dataset**"
      ],
      "metadata": {
        "id": "dFAK9CSCYTxI"
      }
    },
    {
      "cell_type": "code",
      "source": [
        "# Load the dataset (adjust path as needed)\n",
        "train_data = pd.read_csv('/content/train.csv')\n",
        "test_data = pd.read_csv('/content/test.csv')\n",
        "print(\"Train data shape:\", train_data.shape)\n",
        "print(\"Test data shape:\", test_data.shape)\n"
      ],
      "metadata": {
        "colab": {
          "base_uri": "https://localhost:8080/"
        },
        "id": "ab003Wi4YP8b",
        "outputId": "744b63d6-0511-41a8-c521-bacc6335189c"
      },
      "execution_count": 2,
      "outputs": [
        {
          "output_type": "stream",
          "name": "stdout",
          "text": [
            "Train data shape: (23522, 785)\n",
            "Test data shape: (24129, 784)\n"
          ]
        }
      ]
    },
    {
      "cell_type": "markdown",
      "source": [
        "# **2. Visualize Sample Images**"
      ],
      "metadata": {
        "id": "0Iu30Q-5YySv"
      }
    },
    {
      "cell_type": "code",
      "source": [
        "# Visualize sample images\n",
        "fig, axes = plt.subplots(1, 5, figsize=(10, 3))\n",
        "for i, ax in enumerate(axes):\n",
        "    ax.imshow(train_data.iloc[i, 1:].values.reshape(28, 28), cmap='gray')\n",
        "    ax.set_title(f\"Label: {train_data.iloc[i, 0]}\")\n",
        "    ax.axis('off')\n",
        "plt.show()\n"
      ],
      "metadata": {
        "colab": {
          "base_uri": "https://localhost:8080/",
          "height": 192
        },
        "id": "aWJZuTjpZFhn",
        "outputId": "16bb9484-26a8-4ab2-e60b-8b6abae390a1"
      },
      "execution_count": 3,
      "outputs": [
        {
          "output_type": "display_data",
          "data": {
            "text/plain": [
              "<Figure size 1000x300 with 5 Axes>"
            ],
            "image/png": "[encoded data removed]"
          },
          "metadata": {}
        }
      ]
    },
    {
      "cell_type": "markdown",
      "source": [
        "Observation:\n",
        "Displayed sample images to verify correct labels and image orientation."
      ],
      "metadata": {
        "id": "YyjNQRQqZJy_"
      }
    },
    {
      "cell_type": "markdown",
      "source": [
        "# **3. Separate Features and Labels**"
      ],
      "metadata": {
        "id": "yVyTOnx1Y1Bv"
      }
    },
    {
      "cell_type": "code",
      "source": [
        "# Separate features and labels\n",
        "X_train = train_data.iloc[:, 1:].values\n",
        "y_train = train_data.iloc[:, 0].values\n",
        "X_test = test_data.iloc[:, 1:].values\n",
        "y_test = test_data.iloc[:, 0].values\n",
        "print(\"Feature and label arrays created.\")\n"
      ],
      "metadata": {
        "colab": {
          "base_uri": "https://localhost:8080/"
        },
        "id": "ldmN3cmRZQ1_",
        "outputId": "d9c5483f-fcf5-4929-d7a8-d1878e3ced05"
      },
      "execution_count": 4,
      "outputs": [
        {
          "output_type": "stream",
          "name": "stdout",
          "text": [
            "Feature and label arrays created.\n"
          ]
        }
      ]
    },
    {
      "cell_type": "markdown",
      "source": [
        "# **4. Normalize Pixel Values**"
      ],
      "metadata": {
        "id": "IVxwaAqIY02v"
      }
    },
    {
      "cell_type": "code",
      "source": [
        "# Normalize pixel values\n",
        "X_train = X_train / 255.0\n",
        "X_test = X_test / 255.0\n"
      ],
      "metadata": {
        "id": "wEf3TVwjZWvH"
      },
      "execution_count": 5,
      "outputs": []
    },
    {
      "cell_type": "markdown",
      "source": [
        "Observation:\n",
        "Normalized pixel values to improve model training efficiency."
      ],
      "metadata": {
        "id": "3S8w_Rp_Zaq-"
      }
    },
    {
      "cell_type": "markdown",
      "source": [
        "# **5. Train SVM with Linear Kernel**"
      ],
      "metadata": {
        "id": "E2UB8En9Y0q4"
      }
    },
    {
      "cell_type": "code",
      "source": [
        "# Adding a dummy column to X_test to match X_train's 784 features\n",
        "X_test = np.hstack((X_test, np.zeros((X_test.shape[0], 1))))\n",
        "\n",
        "# Check shapes again to confirm they match\n",
        "print(\"Updated X_train shape:\", X_train.shape)\n",
        "print(\"Updated X_test shape:\", X_test.shape)\n"
      ],
      "metadata": {
        "colab": {
          "base_uri": "https://localhost:8080/"
        },
        "id": "SNlQv1J8lWM7",
        "outputId": "73e3d17b-5ad4-4541-807a-c155e3d33148"
      },
      "execution_count": 8,
      "outputs": [
        {
          "output_type": "stream",
          "name": "stdout",
          "text": [
            "Updated X_train shape: (23522, 784)\n",
            "Updated X_test shape: (24129, 784)\n"
          ]
        }
      ]
    },
    {
      "cell_type": "code",
      "source": [
        "# Train a basic SVM model with linear kernel\n",
        "svm_linear = SVC(kernel=\"linear\")\n",
        "svm_linear.fit(X_train[:1000], y_train[:1000])\n",
        "y_pred = svm_linear.predict(X_test[:200])\n",
        "accuracy = accuracy_score(y_test[:200], y_pred)\n",
        "print(\"Accuracy with Linear Kernel:\", accuracy)\n"
      ],
      "metadata": {
        "colab": {
          "base_uri": "https://localhost:8080/"
        },
        "id": "LumJg4pzlep6",
        "outputId": "44b88df2-86b6-4f41-cb07-20bf193019ea"
      },
      "execution_count": 9,
      "outputs": [
        {
          "output_type": "stream",
          "name": "stdout",
          "text": [
            "Accuracy with Linear Kernel: 0.125\n"
          ]
        }
      ]
    },
    {
      "cell_type": "markdown",
      "source": [
        "# **6. Experiment with Different Kernels**"
      ],
      "metadata": {
        "id": "y6itapZ5Y0df"
      }
    },
    {
      "cell_type": "code",
      "source": [
        "# Experiment with different kernels (RBF, Polynomial)\n",
        "svm_rbf = SVC(kernel=\"rbf\")\n",
        "svm_rbf.fit(X_train[:1000], y_train[:1000])\n",
        "y_pred_rbf = svm_rbf.predict(X_test[:200])\n",
        "accuracy_rbf = accuracy_score(y_test[:200], y_pred_rbf)\n",
        "print(\"Accuracy with RBF Kernel:\", accuracy_rbf)\n",
        "\n",
        "svm_poly = SVC(kernel=\"poly\", degree=3)\n",
        "svm_poly.fit(X_train[:1000], y_train[:1000])\n",
        "y_pred_poly = svm_poly.predict(X_test[:200])\n",
        "accuracy_poly = accuracy_score(y_test[:200], y_pred_poly)\n",
        "print(\"Accuracy with Polynomial Kernel:\", accuracy_poly)\n"
      ],
      "metadata": {
        "colab": {
          "base_uri": "https://localhost:8080/"
        },
        "id": "9AvM18TilrkK",
        "outputId": "8c23990d-71db-4505-f953-da62bfa4d489"
      },
      "execution_count": 10,
      "outputs": [
        {
          "output_type": "stream",
          "name": "stdout",
          "text": [
            "Accuracy with RBF Kernel: 0.125\n",
            "Accuracy with Polynomial Kernel: 0.12\n"
          ]
        }
      ]
    },
    {
      "cell_type": "markdown",
      "source": [
        "# **7. Hyperparameter Tuning with Grid Search**"
      ],
      "metadata": {
        "id": "QNjUqLa_Y0SI"
      }
    },
    {
      "cell_type": "code",
      "source": [
        "# Hyperparameter tuning with Grid Search\n",
        "param_grid = {'C': [0.1, 1, 10], 'gamma': [0.001, 0.01, 0.1]}\n",
        "grid = GridSearchCV(SVC(kernel=\"rbf\"), param_grid, cv=3)\n",
        "grid.fit(X_train[:1000], y_train[:1000])\n",
        "print(\"Best parameters:\", grid.best_params_)\n",
        "print(\"Best cross-validation score:\", grid.best_score_)\n"
      ],
      "metadata": {
        "colab": {
          "base_uri": "https://localhost:8080/"
        },
        "id": "EDWws45Clv1J",
        "outputId": "ff140e7f-ae68-4626-8507-92ff94360266"
      },
      "execution_count": 11,
      "outputs": [
        {
          "output_type": "stream",
          "name": "stdout",
          "text": [
            "Best parameters: {'C': 10, 'gamma': 0.01}\n",
            "Best cross-validation score: 0.8960157762552973\n"
          ]
        }
      ]
    },
    {
      "cell_type": "markdown",
      "source": [
        "# **8. Evaluate Model Performance on Test Set**"
      ],
      "metadata": {
        "id": "KH_0VMaOY0Cv"
      }
    },
    {
      "cell_type": "code",
      "source": [
        "from sklearn.impute import SimpleImputer\n",
        "from sklearn.metrics import classification_report\n",
        "\n",
        "# Impute missing values in both X_train and X_test with the mean of each column\n",
        "imputer = SimpleImputer(strategy=\"mean\")\n",
        "X_train_imputed = imputer.fit_transform(X_train)\n",
        "X_test_imputed = imputer.transform(X_test)\n",
        "\n",
        "# Fit the model on the full imputed training set\n",
        "best_svm.fit(X_train_imputed, y_train)\n",
        "\n",
        "# Evaluate model performance on the imputed test set\n",
        "y_test_pred = best_svm.predict(X_test_imputed)\n",
        "print(classification_report(y_test, y_test_pred))\n",
        "\n"
      ],
      "metadata": {
        "colab": {
          "base_uri": "https://localhost:8080/"
        },
        "id": "GaotcuAYl3Y6",
        "outputId": "2efa760f-fa6e-4304-febc-6a9c980bbafe"
      },
      "execution_count": 15,
      "outputs": [
        {
          "output_type": "stream",
          "name": "stdout",
          "text": [
            "              precision    recall  f1-score   support\n",
            "\n",
            "           0       1.00      0.10      0.17     24129\n",
            "           1       0.00      0.00      0.00         0\n",
            "           2       0.00      0.00      0.00         0\n",
            "           3       0.00      0.00      0.00         0\n",
            "           4       0.00      0.00      0.00         0\n",
            "           5       0.00      0.00      0.00         0\n",
            "           6       0.00      0.00      0.00         0\n",
            "           7       0.00      0.00      0.00         0\n",
            "           8       0.00      0.00      0.00         0\n",
            "           9       0.00      0.00      0.00         0\n",
            "\n",
            "    accuracy                           0.10     24129\n",
            "   macro avg       0.10      0.01      0.02     24129\n",
            "weighted avg       1.00      0.10      0.17     24129\n",
            "\n"
          ]
        },
        {
          "output_type": "stream",
          "name": "stderr",
          "text": [
            "/usr/local/lib/python3.10/dist-packages/sklearn/metrics/_classification.py:1531: UndefinedMetricWarning: Recall is ill-defined and being set to 0.0 in labels with no true samples. Use `zero_division` parameter to control this behavior.\n",
            "  _warn_prf(average, modifier, f\"{metric.capitalize()} is\", len(result))\n",
            "/usr/local/lib/python3.10/dist-packages/sklearn/metrics/_classification.py:1531: UndefinedMetricWarning: Recall is ill-defined and being set to 0.0 in labels with no true samples. Use `zero_division` parameter to control this behavior.\n",
            "  _warn_prf(average, modifier, f\"{metric.capitalize()} is\", len(result))\n",
            "/usr/local/lib/python3.10/dist-packages/sklearn/metrics/_classification.py:1531: UndefinedMetricWarning: Recall is ill-defined and being set to 0.0 in labels with no true samples. Use `zero_division` parameter to control this behavior.\n",
            "  _warn_prf(average, modifier, f\"{metric.capitalize()} is\", len(result))\n"
          ]
        }
      ]
    },
    {
      "cell_type": "markdown",
      "source": [
        "# **9. Confusion Matrix**"
      ],
      "metadata": {
        "id": "WUP0xl9lYzzH"
      }
    },
    {
      "cell_type": "code",
      "source": [
        "# Confusion matrix\n",
        "cm = confusion_matrix(y_test, y_test_pred)\n",
        "plt.figure(figsize=(8, 8))\n",
        "sns.heatmap(cm, annot=True, fmt=\"d\", cmap=\"Blues\", xticklabels=range(10), yticklabels=range(10))\n",
        "plt.xlabel(\"Predicted\")\n",
        "plt.ylabel(\"Actual\")\n",
        "plt.title(\"Confusion Matrix\")\n",
        "plt.show()\n"
      ],
      "metadata": {
        "colab": {
          "base_uri": "https://localhost:8080/",
          "height": 718
        },
        "id": "0F-k77WRmto5",
        "outputId": "ab32095d-5ee0-4343-d7b5-608b6ada4e49"
      },
      "execution_count": 16,
      "outputs": [
        {
          "output_type": "display_data",
          "data": {
            "text/plain": [
              "<Figure size 800x800 with 2 Axes>"
            ],
            "image/png": "[encoded data removed]"
          },
          "metadata": {}
        }
      ]
    },
    {
      "cell_type": "markdown",
      "source": [
        "# **10. Dimensionality Reduction with PCA**"
      ],
      "metadata": {
        "id": "xQDXp5sjYzGf"
      }
    },
    {
      "cell_type": "code",
      "source": [
        "\n",
        "# Step 1: Impute missing values in X_train and X_test\n",
        "imputer = SimpleImputer(strategy=\"mean\")\n",
        "X_train_imputed = imputer.fit_transform(X_train)\n",
        "X_test_imputed = imputer.transform(X_test)\n",
        "\n",
        "# Step 2: Dimensionality reduction with PCA\n",
        "pca = PCA(n_components=50)\n",
        "X_train_pca = pca.fit_transform(X_train_imputed)\n",
        "X_test_pca = pca.transform(X_test_imputed)\n",
        "\n",
        "# Step 3: Train SVM with RBF kernel on PCA-transformed data\n",
        "svm_pca = SVC(kernel=\"rbf\")\n",
        "svm_pca.fit(X_train_pca[:1000], y_train[:1000])\n",
        "y_pred_pca = svm_pca.predict(X_test_pca[:200])\n",
        "\n",
        "# Step 4: Calculate accuracy\n",
        "accuracy_pca = accuracy_score(y_test[:200], y_pred_pca)\n",
        "print(\"Accuracy after PCA with RBF Kernel:\", accuracy_pca)\n",
        "\n"
      ],
      "metadata": {
        "colab": {
          "base_uri": "https://localhost:8080/"
        },
        "id": "6oa_2yphmsED",
        "outputId": "30bb24f1-c7d8-48e6-9db7-573af5641fdc"
      },
      "execution_count": 18,
      "outputs": [
        {
          "output_type": "stream",
          "name": "stdout",
          "text": [
            "Accuracy after PCA with RBF Kernel: 0.12\n"
          ]
        }
      ]
    },
    {
      "cell_type": "code",
      "source": [
        "import time\n",
        "from sklearn.svm import SVC\n",
        "from sklearn.metrics import accuracy_score, confusion_matrix\n",
        "import seaborn as sns\n",
        "import matplotlib.pyplot as plt\n",
        "import pandas as pd\n",
        "from sklearn.model_selection import train_test_split\n",
        "from sklearn.datasets import load_iris  # Example dataset\n",
        "\n",
        "# Start the timer\n",
        "start_time = time.time()\n",
        "\n",
        "# Load your dataset (using Iris dataset as an example)\n",
        "data = load_iris()\n",
        "X = pd.DataFrame(data.data, columns=data.feature_names)\n",
        "Y = pd.Series(data.target)\n",
        "\n",
        "# Split the data into training and validation sets\n",
        "X_train, X_val, Y_train, Y_val = train_test_split(X, Y, test_size=0.2, random_state=42)\n",
        "\n",
        "# Define and train the SVM model with OVO strategy\n",
        "svm_model = SVC(decision_function_shape='ovo')\n",
        "svm_model.fit(X_train, Y_train)\n",
        "\n",
        "# Make predictions on the training and validation sets\n",
        "train_predictions = svm_model.predict(X_train)\n",
        "val_predictions = svm_model.predict(X_val)\n",
        "\n",
        "# Calculate accuracy for both sets\n",
        "train_accuracy = accuracy_score(Y_train, train_predictions)\n",
        "val_accuracy = accuracy_score(Y_val, val_predictions)\n",
        "\n",
        "# Print accuracies and time taken\n",
        "print(f\"Training Accuracy: {train_accuracy:.4f}\")\n",
        "print(f\"Validation Accuracy: {val_accuracy:.4f}\")\n",
        "print(f\"Time taken: {time.time() - start_time:.2f} seconds\")\n",
        "\n",
        "# Confusion Matrix\n",
        "conf_matrix = confusion_matrix(Y_val, val_predictions)\n",
        "plt.figure(figsize=(9, 6))\n",
        "sns.heatmap(conf_matrix, annot=True, fmt='g', cmap='Greys', cbar=False)\n",
        "plt.title(\"Confusion Matrix of SVM Classifier\")\n",
        "plt.xlabel(\"Predicted Labels\")\n",
        "plt.ylabel(\"Actual Labels\")\n",
        "plt.show()\n"
      ],
      "metadata": {
        "id": "s_ymMN_1Yakz",
        "colab": {
          "base_uri": "https://localhost:8080/",
          "height": 616
        },
        "outputId": "508bd90e-e952-40c4-fb65-3e8c6e7cea79"
      },
      "execution_count": 20,
      "outputs": [
        {
          "output_type": "stream",
          "name": "stdout",
          "text": [
            "Training Accuracy: 0.9750\n",
            "Validation Accuracy: 1.0000\n",
            "Time taken: 0.08 seconds\n"
          ]
        },
        {
          "output_type": "display_data",
          "data": {
            "text/plain": [
              "<Figure size 900x600 with 1 Axes>"
            ],
            "image/png": "[encoded data removed]"
          },
          "metadata": {}
        }
      ]
    }
  ]
}